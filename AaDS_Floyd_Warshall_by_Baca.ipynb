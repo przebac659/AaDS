{
  "nbformat": 4,
  "nbformat_minor": 0,
  "metadata": {
    "colab": {
      "name": "Kopia notatnika AaDS_Floyd_Warshall_by_Baca.ipynb",
      "provenance": [],
      "authorship_tag": "ABX9TyPl+Y3Il8YMPwr/gUq7S6nX",
      "include_colab_link": true
    },
    "kernelspec": {
      "name": "python3",
      "display_name": "Python 3"
    },
    "language_info": {
      "name": "python"
    }
  },
  "cells": [
    {
      "cell_type": "markdown",
      "metadata": {
        "id": "view-in-github",
        "colab_type": "text"
      },
      "source": [
        "<a href=\"https://colab.research.google.com/github/przebac659/AaDS/blob/main/AaDS_Floyd_Warshall_by_Baca.ipynb\" target=\"_parent\"><img src=\"https://colab.research.google.com/assets/colab-badge.svg\" alt=\"Open In Colab\"/></a>"
      ]
    },
    {
      "cell_type": "code",
      "execution_count": null,
      "metadata": {
        "id": "Xh2L-mamLyDr"
      },
      "outputs": [],
      "source": [
        "# Imports and creating routes var\n",
        "from math import inf\n",
        "from itertools import product\n",
        "import time\n",
        "\n",
        "import collections\n",
        "\n",
        "from google.colab import files\n",
        "\n",
        "routes = 0"
      ]
    },
    {
      "cell_type": "code",
      "source": [
        "# Uploading a file\n",
        "uploaded = files.upload()"
      ],
      "metadata": {
        "colab": {
          "resources": {
            "http://localhost:8080/nbextensions/google.colab/files.js": {
              "data": "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",
              "ok": true,
              "headers": [
                [
                  "content-type",
                  "application/javascript"
                ]
              ],
              "status": 200,
              "status_text": ""
            }
          },
          "base_uri": "https://localhost:8080/",
          "height": 73
        },
        "id": "DpgVOPq0QSCu",
        "outputId": "d99b11f5-42e8-4556-dbf9-f09f986549f1"
      },
      "execution_count": null,
      "outputs": [
        {
          "output_type": "display_data",
          "data": {
            "text/plain": [
              "<IPython.core.display.HTML object>"
            ],
            "text/html": [
              "\n",
              "     <input type=\"file\" id=\"files-83cbb721-3c95-442e-88e1-d783d5ab750c\" name=\"files[]\" multiple disabled\n",
              "        style=\"border:none\" />\n",
              "     <output id=\"result-83cbb721-3c95-442e-88e1-d783d5ab750c\">\n",
              "      Upload widget is only available when the cell has been executed in the\n",
              "      current browser session. Please rerun this cell to enable.\n",
              "      </output>\n",
              "      <script src=\"/nbextensions/google.colab/files.js\"></script> "
            ]
          },
          "metadata": {}
        },
        {
          "output_type": "stream",
          "name": "stdout",
          "text": [
            "Saving test.txt to test (2).txt\n"
          ]
        }
      ]
    },
    {
      "cell_type": "code",
      "source": [
        "# Stating paths\n",
        "#path_in = 'g5.txt'\n",
        "path_in = 'g10.txt'\n",
        "#path_in = 'test (2).txt'\n",
        "path_out = 'g5_res.txt'"
      ],
      "metadata": {
        "id": "cbkG9AVpMHbW"
      },
      "execution_count": null,
      "outputs": []
    },
    {
      "cell_type": "code",
      "source": [
        "# Array initialization\n",
        "with open(path_in, encoding=\"utf-8\") as f:\n",
        "    w, h = [int(x) for x in next(f).split()]\n",
        "    array = []\n",
        "\n",
        "    for line in f: \n",
        "        array.append([int(x) for x in line.split()])"
      ],
      "metadata": {
        "id": "EH4PAgfhMu6m"
      },
      "execution_count": null,
      "outputs": []
    },
    {
      "cell_type": "code",
      "source": [
        "print(array)"
      ],
      "metadata": {
        "colab": {
          "base_uri": "https://localhost:8080/"
        },
        "id": "AerdUKJNluF3",
        "outputId": "8d6c8ea7-2035-49ac-d376-59cca546ee1f"
      },
      "execution_count": null,
      "outputs": [
        {
          "output_type": "stream",
          "name": "stdout",
          "text": [
            "[[1, 6, 2], [1, 7, 5], [1, 9, 1], [2, 1, 3], [2, 6, 1], [2, 8, 4], [3, 4, 4], [3, 6, 4], [3, 7, 6], [4, 1, 4], [4, 6, 2], [4, 9, 1], [5, 5, 4], [5, 8, 1], [5, 10, 4], [6, 7, 4], [6, 9, 5], [7, 3, 1], [7, 6, 6], [7, 8, 4], [7, 9, 3], [7, 10, 6], [8, 4, 2], [8, 7, 5], [8, 8, 1], [8, 9, 3], [9, 3, 1], [9, 4, 1], [9, 5, 1], [9, 6, 6], [9, 8, 5], [9, 9, 1], [10, 1, 4], [10, 4, 6], [10, 5, 2], [10, 6, 4], [10, 7, 6], [10, 8, 1], [10, 9, 5]]\n"
          ]
        }
      ]
    },
    {
      "cell_type": "code",
      "source": [
        "# Merging variables for two different methods\n",
        "edge, n, h = array, w, h"
      ],
      "metadata": {
        "id": "czrynVOAOKDP"
      },
      "execution_count": null,
      "outputs": []
    },
    {
      "cell_type": "code",
      "source": [
        "# FW algorithm\n",
        "routes\n",
        "infinity = 1000\n",
        "rn = range(n)\n",
        "dist = [[infinity] * n for i in rn]\n",
        "nxt = [[0] * n for i in rn]\n",
        "\n",
        "for i in rn:\n",
        "    dist[i][i] = 0\n",
        "\n",
        "for u, v, w in edge:\n",
        "    dist[u - 1][v - 1] = w\n",
        "    nxt[u - 1][v - 1] = v - 1\n",
        "\n",
        "for k, i, j in product(rn, repeat=3):\n",
        "    sum_ik_kj = dist[i][k] + dist[k][j]\n",
        "    if dist[i][j] > sum_ik_kj:\n",
        "        dist[i][j] = sum_ik_kj\n",
        "        nxt[i][j] = nxt[i][k]\n",
        "\n",
        "print(\"distance: \",dist)\n",
        "print(\"next: \",nxt)"
      ],
      "metadata": {
        "colab": {
          "base_uri": "https://localhost:8080/"
        },
        "id": "1xY8IqUeMY5I",
        "outputId": "804704d0-7bc2-4b76-b556-5d53343ad734"
      },
      "execution_count": null,
      "outputs": [
        {
          "output_type": "stream",
          "name": "stdout",
          "text": [
            "distance:  [[0, 1000, 2, 2, 2, 2, 5, 3, 1, 6], [3, 0, 5, 5, 5, 1, 5, 4, 4, 9], [8, 1000, 0, 4, 6, 4, 6, 7, 5, 10], [4, 1000, 2, 0, 2, 2, 6, 3, 1, 6], [7, 1000, 5, 3, 4, 5, 6, 1, 4, 4], [10, 1000, 5, 6, 6, 0, 4, 7, 5, 10], [8, 1000, 1, 4, 4, 5, 0, 4, 3, 6], [6, 1000, 4, 2, 4, 4, 5, 1, 3, 8], [5, 1000, 1, 1, 1, 3, 7, 2, 1, 5], [4, 1000, 5, 3, 2, 4, 6, 1, 4, 0]]\n",
            "next:  [[0, 0, 8, 8, 8, 5, 6, 8, 8, 8], [0, 0, 0, 0, 0, 5, 5, 7, 0, 0], [3, 0, 0, 3, 3, 5, 6, 3, 3, 3], [0, 0, 8, 0, 8, 5, 5, 8, 8, 8], [7, 0, 7, 7, 4, 7, 7, 7, 7, 9], [8, 0, 6, 8, 8, 0, 6, 8, 8, 6], [8, 0, 2, 8, 8, 2, 0, 7, 8, 9], [3, 0, 8, 3, 8, 3, 6, 7, 8, 8], [3, 0, 2, 3, 4, 3, 2, 4, 8, 4], [0, 0, 7, 7, 4, 5, 6, 7, 7, 0]]\n"
          ]
        }
      ]
    },
    {
      "cell_type": "code",
      "source": [
        "# Printing output\n",
        "routes\n",
        "\n",
        "output = open(path_out,'w', encoding=\"utf-8\")\n",
        "\n",
        "print(\"    pair        dist\")\n",
        "output.write(\"    pair        dist\\n\")\n",
        "\n",
        "for i, j in product(rn, repeat=2):\n",
        "    if i != j:\n",
        "        print(\" d[%1d, %1d]  %7d    \" % (i + 1, j + 1, dist[i][j]))\n",
        "        output.write(\" d[%1d, %1d]  %7d     \\n\" % (i + 1, j + 1, dist[i][j]))\n",
        "        routes+=1\n",
        "\n",
        "print(\"Nodes:\",w,\"Edges:\",h)\n",
        "print(\"Routes: \",routes)\n",
        "\n",
        "files.download(path_out)"
      ],
      "metadata": {
        "colab": {
          "base_uri": "https://localhost:8080/",
          "height": 1000
        },
        "id": "clMDgYkjMxbE",
        "outputId": "5ad92c04-3163-44a1-b1c5-e9daf2afecf2"
      },
      "execution_count": null,
      "outputs": [
        {
          "output_type": "stream",
          "name": "stdout",
          "text": [
            "    pair        dist\n",
            " d[1, 2]     1000    \n",
            " d[1, 3]        2    \n",
            " d[1, 4]        2    \n",
            " d[1, 5]        2    \n",
            " d[1, 6]        2    \n",
            " d[1, 7]        5    \n",
            " d[1, 8]        3    \n",
            " d[1, 9]        1    \n",
            " d[1, 10]        6    \n",
            " d[2, 1]        3    \n",
            " d[2, 3]        5    \n",
            " d[2, 4]        5    \n",
            " d[2, 5]        5    \n",
            " d[2, 6]        1    \n",
            " d[2, 7]        5    \n",
            " d[2, 8]        4    \n",
            " d[2, 9]        4    \n",
            " d[2, 10]        9    \n",
            " d[3, 1]        8    \n",
            " d[3, 2]     1000    \n",
            " d[3, 4]        4    \n",
            " d[3, 5]        6    \n",
            " d[3, 6]        4    \n",
            " d[3, 7]        6    \n",
            " d[3, 8]        7    \n",
            " d[3, 9]        5    \n",
            " d[3, 10]       10    \n",
            " d[4, 1]        4    \n",
            " d[4, 2]     1000    \n",
            " d[4, 3]        2    \n",
            " d[4, 5]        2    \n",
            " d[4, 6]        2    \n",
            " d[4, 7]        6    \n",
            " d[4, 8]        3    \n",
            " d[4, 9]        1    \n",
            " d[4, 10]        6    \n",
            " d[5, 1]        7    \n",
            " d[5, 2]     1000    \n",
            " d[5, 3]        5    \n",
            " d[5, 4]        3    \n",
            " d[5, 6]        5    \n",
            " d[5, 7]        6    \n",
            " d[5, 8]        1    \n",
            " d[5, 9]        4    \n",
            " d[5, 10]        4    \n",
            " d[6, 1]       10    \n",
            " d[6, 2]     1000    \n",
            " d[6, 3]        5    \n",
            " d[6, 4]        6    \n",
            " d[6, 5]        6    \n",
            " d[6, 7]        4    \n",
            " d[6, 8]        7    \n",
            " d[6, 9]        5    \n",
            " d[6, 10]       10    \n",
            " d[7, 1]        8    \n",
            " d[7, 2]     1000    \n",
            " d[7, 3]        1    \n",
            " d[7, 4]        4    \n",
            " d[7, 5]        4    \n",
            " d[7, 6]        5    \n",
            " d[7, 8]        4    \n",
            " d[7, 9]        3    \n",
            " d[7, 10]        6    \n",
            " d[8, 1]        6    \n",
            " d[8, 2]     1000    \n",
            " d[8, 3]        4    \n",
            " d[8, 4]        2    \n",
            " d[8, 5]        4    \n",
            " d[8, 6]        4    \n",
            " d[8, 7]        5    \n",
            " d[8, 9]        3    \n",
            " d[8, 10]        8    \n",
            " d[9, 1]        5    \n",
            " d[9, 2]     1000    \n",
            " d[9, 3]        1    \n",
            " d[9, 4]        1    \n",
            " d[9, 5]        1    \n",
            " d[9, 6]        3    \n",
            " d[9, 7]        7    \n",
            " d[9, 8]        2    \n",
            " d[9, 10]        5    \n",
            " d[10, 1]        4    \n",
            " d[10, 2]     1000    \n",
            " d[10, 3]        5    \n",
            " d[10, 4]        3    \n",
            " d[10, 5]        2    \n",
            " d[10, 6]        4    \n",
            " d[10, 7]        6    \n",
            " d[10, 8]        1    \n",
            " d[10, 9]        4    \n",
            "Nodes: 5 Edges: 39\n",
            "Routes:  710\n"
          ]
        },
        {
          "output_type": "display_data",
          "data": {
            "text/plain": [
              "<IPython.core.display.Javascript object>"
            ],
            "application/javascript": [
              "\n",
              "    async function download(id, filename, size) {\n",
              "      if (!google.colab.kernel.accessAllowed) {\n",
              "        return;\n",
              "      }\n",
              "      const div = document.createElement('div');\n",
              "      const label = document.createElement('label');\n",
              "      label.textContent = `Downloading \"${filename}\": `;\n",
              "      div.appendChild(label);\n",
              "      const progress = document.createElement('progress');\n",
              "      progress.max = size;\n",
              "      div.appendChild(progress);\n",
              "      document.body.appendChild(div);\n",
              "\n",
              "      const buffers = [];\n",
              "      let downloaded = 0;\n",
              "\n",
              "      const channel = await google.colab.kernel.comms.open(id);\n",
              "      // Send a message to notify the kernel that we're ready.\n",
              "      channel.send({})\n",
              "\n",
              "      for await (const message of channel.messages) {\n",
              "        // Send a message to notify the kernel that we're ready.\n",
              "        channel.send({})\n",
              "        if (message.buffers) {\n",
              "          for (const buffer of message.buffers) {\n",
              "            buffers.push(buffer);\n",
              "            downloaded += buffer.byteLength;\n",
              "            progress.value = downloaded;\n",
              "          }\n",
              "        }\n",
              "      }\n",
              "      const blob = new Blob(buffers, {type: 'application/binary'});\n",
              "      const a = document.createElement('a');\n",
              "      a.href = window.URL.createObjectURL(blob);\n",
              "      a.download = filename;\n",
              "      div.appendChild(a);\n",
              "      a.click();\n",
              "      div.remove();\n",
              "    }\n",
              "  "
            ]
          },
          "metadata": {}
        },
        {
          "output_type": "display_data",
          "data": {
            "text/plain": [
              "<IPython.core.display.Javascript object>"
            ],
            "application/javascript": [
              "download(\"download_3d6be090-d7f4-4a24-96a6-50d4512a96fa\", \"g5_res.txt\", 0)"
            ]
          },
          "metadata": {}
        }
      ]
    }
  ]
}